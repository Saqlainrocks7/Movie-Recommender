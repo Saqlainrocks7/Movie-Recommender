{
 "cells": [
  {
   "cell_type": "code",
   "execution_count": 1,
   "metadata": {},
   "outputs": [],
   "source": [
    "import numpy as np \n",
    "import pandas as pd \n",
    "import seaborn as sns\n",
    "import matplotlib.pyplot as plt"
   ]
  },
  {
   "cell_type": "code",
   "execution_count": 2,
   "metadata": {},
   "outputs": [
    {
     "data": {
      "text/html": [
       "<div>\n",
       "<style scoped>\n",
       "    .dataframe tbody tr th:only-of-type {\n",
       "        vertical-align: middle;\n",
       "    }\n",
       "\n",
       "    .dataframe tbody tr th {\n",
       "        vertical-align: top;\n",
       "    }\n",
       "\n",
       "    .dataframe thead th {\n",
       "        text-align: right;\n",
       "    }\n",
       "</style>\n",
       "<table border=\"1\" class=\"dataframe\">\n",
       "  <thead>\n",
       "    <tr style=\"text-align: right;\">\n",
       "      <th></th>\n",
       "      <th>title</th>\n",
       "      <th>overview</th>\n",
       "      <th>original_lang</th>\n",
       "      <th>rel_date</th>\n",
       "      <th>popularity</th>\n",
       "      <th>vote_count</th>\n",
       "      <th>vote_average</th>\n",
       "    </tr>\n",
       "  </thead>\n",
       "  <tbody>\n",
       "    <tr>\n",
       "      <th>0</th>\n",
       "      <td>John Wick</td>\n",
       "      <td>Ex-hitman John Wick comes out of retirement to...</td>\n",
       "      <td>en</td>\n",
       "      <td>2014-10-22</td>\n",
       "      <td>818.916</td>\n",
       "      <td>12063</td>\n",
       "      <td>7.2</td>\n",
       "    </tr>\n",
       "    <tr>\n",
       "      <th>1</th>\n",
       "      <td>Ad Astra</td>\n",
       "      <td>The near future, a time when both hope and har...</td>\n",
       "      <td>en</td>\n",
       "      <td>2019-09-17</td>\n",
       "      <td>427.078</td>\n",
       "      <td>2778</td>\n",
       "      <td>6.0</td>\n",
       "    </tr>\n",
       "    <tr>\n",
       "      <th>2</th>\n",
       "      <td>Bad Boys for Life</td>\n",
       "      <td>Marcus and Mike are forced to confront new thr...</td>\n",
       "      <td>en</td>\n",
       "      <td>2020-01-15</td>\n",
       "      <td>372.268</td>\n",
       "      <td>2062</td>\n",
       "      <td>6.9</td>\n",
       "    </tr>\n",
       "    <tr>\n",
       "      <th>3</th>\n",
       "      <td>The Lion King</td>\n",
       "      <td>Simba idolizes his father, King Mufasa, and ta...</td>\n",
       "      <td>en</td>\n",
       "      <td>2019-07-12</td>\n",
       "      <td>366.904</td>\n",
       "      <td>5043</td>\n",
       "      <td>7.1</td>\n",
       "    </tr>\n",
       "    <tr>\n",
       "      <th>4</th>\n",
       "      <td>Jurassic World: Fallen Kingdom</td>\n",
       "      <td>Three years after the demise of Jurassic World...</td>\n",
       "      <td>en</td>\n",
       "      <td>2018-06-06</td>\n",
       "      <td>355.501</td>\n",
       "      <td>7153</td>\n",
       "      <td>6.5</td>\n",
       "    </tr>\n",
       "  </tbody>\n",
       "</table>\n",
       "</div>"
      ],
      "text/plain": [
       "                            title  \\\n",
       "0                       John Wick   \n",
       "1                        Ad Astra   \n",
       "2               Bad Boys for Life   \n",
       "3                   The Lion King   \n",
       "4  Jurassic World: Fallen Kingdom   \n",
       "\n",
       "                                            overview original_lang  \\\n",
       "0  Ex-hitman John Wick comes out of retirement to...            en   \n",
       "1  The near future, a time when both hope and har...            en   \n",
       "2  Marcus and Mike are forced to confront new thr...            en   \n",
       "3  Simba idolizes his father, King Mufasa, and ta...            en   \n",
       "4  Three years after the demise of Jurassic World...            en   \n",
       "\n",
       "     rel_date  popularity  vote_count  vote_average  \n",
       "0  2014-10-22     818.916       12063           7.2  \n",
       "1  2019-09-17     427.078        2778           6.0  \n",
       "2  2020-01-15     372.268        2062           6.9  \n",
       "3  2019-07-12     366.904        5043           7.1  \n",
       "4  2018-06-06     355.501        7153           6.5  "
      ]
     },
     "execution_count": 2,
     "metadata": {},
     "output_type": "execute_result"
    }
   ],
   "source": [
    "df = pd.read_csv('movies_tmdb_popular.csv')\n",
    "df.head()"
   ]
  },
  {
   "cell_type": "code",
   "execution_count": 3,
   "metadata": {},
   "outputs": [
    {
     "data": {
      "text/html": [
       "<div>\n",
       "<style scoped>\n",
       "    .dataframe tbody tr th:only-of-type {\n",
       "        vertical-align: middle;\n",
       "    }\n",
       "\n",
       "    .dataframe tbody tr th {\n",
       "        vertical-align: top;\n",
       "    }\n",
       "\n",
       "    .dataframe thead th {\n",
       "        text-align: right;\n",
       "    }\n",
       "</style>\n",
       "<table border=\"1\" class=\"dataframe\">\n",
       "  <thead>\n",
       "    <tr style=\"text-align: right;\">\n",
       "      <th></th>\n",
       "      <th>popularity</th>\n",
       "      <th>vote_count</th>\n",
       "      <th>vote_average</th>\n",
       "    </tr>\n",
       "  </thead>\n",
       "  <tbody>\n",
       "    <tr>\n",
       "      <th>count</th>\n",
       "      <td>10000.000000</td>\n",
       "      <td>10000.000000</td>\n",
       "      <td>10000.000000</td>\n",
       "    </tr>\n",
       "    <tr>\n",
       "      <th>mean</th>\n",
       "      <td>14.827110</td>\n",
       "      <td>1010.263400</td>\n",
       "      <td>6.329930</td>\n",
       "    </tr>\n",
       "    <tr>\n",
       "      <th>std</th>\n",
       "      <td>15.819246</td>\n",
       "      <td>1987.076099</td>\n",
       "      <td>1.285163</td>\n",
       "    </tr>\n",
       "    <tr>\n",
       "      <th>min</th>\n",
       "      <td>8.862000</td>\n",
       "      <td>0.000000</td>\n",
       "      <td>0.000000</td>\n",
       "    </tr>\n",
       "    <tr>\n",
       "      <th>25%</th>\n",
       "      <td>10.239750</td>\n",
       "      <td>136.000000</td>\n",
       "      <td>5.800000</td>\n",
       "    </tr>\n",
       "    <tr>\n",
       "      <th>50%</th>\n",
       "      <td>11.912000</td>\n",
       "      <td>316.000000</td>\n",
       "      <td>6.500000</td>\n",
       "    </tr>\n",
       "    <tr>\n",
       "      <th>75%</th>\n",
       "      <td>15.140250</td>\n",
       "      <td>916.250000</td>\n",
       "      <td>7.100000</td>\n",
       "    </tr>\n",
       "    <tr>\n",
       "      <th>max</th>\n",
       "      <td>818.916000</td>\n",
       "      <td>25060.000000</td>\n",
       "      <td>10.000000</td>\n",
       "    </tr>\n",
       "  </tbody>\n",
       "</table>\n",
       "</div>"
      ],
      "text/plain": [
       "         popularity    vote_count  vote_average\n",
       "count  10000.000000  10000.000000  10000.000000\n",
       "mean      14.827110   1010.263400      6.329930\n",
       "std       15.819246   1987.076099      1.285163\n",
       "min        8.862000      0.000000      0.000000\n",
       "25%       10.239750    136.000000      5.800000\n",
       "50%       11.912000    316.000000      6.500000\n",
       "75%       15.140250    916.250000      7.100000\n",
       "max      818.916000  25060.000000     10.000000"
      ]
     },
     "execution_count": 3,
     "metadata": {},
     "output_type": "execute_result"
    }
   ],
   "source": [
    "df.describe()"
   ]
  },
  {
   "cell_type": "code",
   "execution_count": 4,
   "metadata": {},
   "outputs": [
    {
     "name": "stdout",
     "output_type": "stream",
     "text": [
      "<class 'pandas.core.frame.DataFrame'>\n",
      "RangeIndex: 10000 entries, 0 to 9999\n",
      "Data columns (total 7 columns):\n",
      " #   Column         Non-Null Count  Dtype  \n",
      "---  ------         --------------  -----  \n",
      " 0   title          10000 non-null  object \n",
      " 1   overview       9979 non-null   object \n",
      " 2   original_lang  10000 non-null  object \n",
      " 3   rel_date       9993 non-null   object \n",
      " 4   popularity     10000 non-null  float64\n",
      " 5   vote_count     10000 non-null  int64  \n",
      " 6   vote_average   10000 non-null  float64\n",
      "dtypes: float64(2), int64(1), object(4)\n",
      "memory usage: 547.0+ KB\n"
     ]
    }
   ],
   "source": [
    "df.info()"
   ]
  },
  {
   "cell_type": "code",
   "execution_count": 5,
   "metadata": {},
   "outputs": [
    {
     "name": "stdout",
     "output_type": "stream",
     "text": [
      "6.329930000000007\n"
     ]
    }
   ],
   "source": [
    "C = df.vote_average.mean()\n",
    "print(C)"
   ]
  },
  {
   "cell_type": "code",
   "execution_count": 6,
   "metadata": {},
   "outputs": [
    {
     "name": "stdout",
     "output_type": "stream",
     "text": [
      "2533.1000000000004\n"
     ]
    }
   ],
   "source": [
    "m = df.vote_count.quantile(0.90)\n",
    "print(m)"
   ]
  },
  {
   "cell_type": "code",
   "execution_count": 7,
   "metadata": {},
   "outputs": [
    {
     "data": {
      "text/plain": [
       "(1001, 7)"
      ]
     },
     "execution_count": 7,
     "metadata": {},
     "output_type": "execute_result"
    }
   ],
   "source": [
    "df_copy = df.copy().loc[df['vote_count'] >= m]\n",
    "df_copy.shape"
   ]
  },
  {
   "cell_type": "code",
   "execution_count": 8,
   "metadata": {},
   "outputs": [
    {
     "data": {
      "text/plain": [
       "(10000, 7)"
      ]
     },
     "execution_count": 8,
     "metadata": {},
     "output_type": "execute_result"
    }
   ],
   "source": [
    "df.shape"
   ]
  },
  {
   "cell_type": "code",
   "execution_count": 9,
   "metadata": {},
   "outputs": [],
   "source": [
    "# Function that computes the weighted rating of each movie\n",
    "def weighted_rating(x, m=m, C=C):\n",
    "    v = x['vote_count']\n",
    "    R = x['vote_average']\n",
    "    # Calculation based on the IMDB formula\n",
    "    return (v/(v+m) * R) + (m/(m+v) * C)"
   ]
  },
  {
   "cell_type": "code",
   "execution_count": 10,
   "metadata": {},
   "outputs": [],
   "source": [
    "# Define a new feature 'score' and calculate its value with `weighted_rating()`\n",
    "df_copy['score'] = df_copy.apply(weighted_rating, axis=1)"
   ]
  },
  {
   "cell_type": "code",
   "execution_count": 11,
   "metadata": {},
   "outputs": [],
   "source": [
    "#Sort movies based on score calculated above\n",
    "df_copy = df_copy.sort_values('score', ascending=False)"
   ]
  },
  {
   "cell_type": "code",
   "execution_count": 12,
   "metadata": {},
   "outputs": [
    {
     "data": {
      "text/html": [
       "<div>\n",
       "<style scoped>\n",
       "    .dataframe tbody tr th:only-of-type {\n",
       "        vertical-align: middle;\n",
       "    }\n",
       "\n",
       "    .dataframe tbody tr th {\n",
       "        vertical-align: top;\n",
       "    }\n",
       "\n",
       "    .dataframe thead th {\n",
       "        text-align: right;\n",
       "    }\n",
       "</style>\n",
       "<table border=\"1\" class=\"dataframe\">\n",
       "  <thead>\n",
       "    <tr style=\"text-align: right;\">\n",
       "      <th></th>\n",
       "      <th>title</th>\n",
       "      <th>vote_count</th>\n",
       "      <th>vote_average</th>\n",
       "      <th>score</th>\n",
       "    </tr>\n",
       "  </thead>\n",
       "  <tbody>\n",
       "    <tr>\n",
       "      <th>88</th>\n",
       "      <td>The Shawshank Redemption</td>\n",
       "      <td>15423</td>\n",
       "      <td>8.7</td>\n",
       "      <td>8.365650</td>\n",
       "    </tr>\n",
       "    <tr>\n",
       "      <th>153</th>\n",
       "      <td>The Godfather</td>\n",
       "      <td>11715</td>\n",
       "      <td>8.7</td>\n",
       "      <td>8.278637</td>\n",
       "    </tr>\n",
       "    <tr>\n",
       "      <th>155</th>\n",
       "      <td>Pulp Fiction</td>\n",
       "      <td>17926</td>\n",
       "      <td>8.5</td>\n",
       "      <td>8.231317</td>\n",
       "    </tr>\n",
       "    <tr>\n",
       "      <th>148</th>\n",
       "      <td>The Dark Knight</td>\n",
       "      <td>21489</td>\n",
       "      <td>8.4</td>\n",
       "      <td>8.181714</td>\n",
       "    </tr>\n",
       "    <tr>\n",
       "      <th>210</th>\n",
       "      <td>Fight Club</td>\n",
       "      <td>18601</td>\n",
       "      <td>8.4</td>\n",
       "      <td>8.151885</td>\n",
       "    </tr>\n",
       "    <tr>\n",
       "      <th>247</th>\n",
       "      <td>Forrest Gump</td>\n",
       "      <td>17282</td>\n",
       "      <td>8.4</td>\n",
       "      <td>8.135369</td>\n",
       "    </tr>\n",
       "    <tr>\n",
       "      <th>135</th>\n",
       "      <td>Inception</td>\n",
       "      <td>25060</td>\n",
       "      <td>8.3</td>\n",
       "      <td>8.119144</td>\n",
       "    </tr>\n",
       "    <tr>\n",
       "      <th>189</th>\n",
       "      <td>Schindler's List</td>\n",
       "      <td>9325</td>\n",
       "      <td>8.6</td>\n",
       "      <td>8.115073</td>\n",
       "    </tr>\n",
       "    <tr>\n",
       "      <th>78</th>\n",
       "      <td>The Lord of the Rings: The Return of the King</td>\n",
       "      <td>14940</td>\n",
       "      <td>8.4</td>\n",
       "      <td>8.099899</td>\n",
       "    </tr>\n",
       "    <tr>\n",
       "      <th>102</th>\n",
       "      <td>Interstellar</td>\n",
       "      <td>21493</td>\n",
       "      <td>8.3</td>\n",
       "      <td>8.092293</td>\n",
       "    </tr>\n",
       "    <tr>\n",
       "      <th>361</th>\n",
       "      <td>The Green Mile</td>\n",
       "      <td>9696</td>\n",
       "      <td>8.5</td>\n",
       "      <td>8.050498</td>\n",
       "    </tr>\n",
       "    <tr>\n",
       "      <th>57</th>\n",
       "      <td>Avengers: Infinity War</td>\n",
       "      <td>17321</td>\n",
       "      <td>8.3</td>\n",
       "      <td>8.048647</td>\n",
       "    </tr>\n",
       "    <tr>\n",
       "      <th>56</th>\n",
       "      <td>The Lord of the Rings: The Fellowship of the Ring</td>\n",
       "      <td>16375</td>\n",
       "      <td>8.3</td>\n",
       "      <td>8.036072</td>\n",
       "    </tr>\n",
       "    <tr>\n",
       "      <th>147</th>\n",
       "      <td>Spirited Away</td>\n",
       "      <td>8947</td>\n",
       "      <td>8.5</td>\n",
       "      <td>8.021171</td>\n",
       "    </tr>\n",
       "    <tr>\n",
       "      <th>167</th>\n",
       "      <td>The Empire Strikes Back</td>\n",
       "      <td>11128</td>\n",
       "      <td>8.4</td>\n",
       "      <td>8.016159</td>\n",
       "    </tr>\n",
       "    <tr>\n",
       "      <th>244</th>\n",
       "      <td>The Lord of the Rings: The Two Towers</td>\n",
       "      <td>14124</td>\n",
       "      <td>8.3</td>\n",
       "      <td>8.000405</td>\n",
       "    </tr>\n",
       "    <tr>\n",
       "      <th>462</th>\n",
       "      <td>Life Is Beautiful</td>\n",
       "      <td>8419</td>\n",
       "      <td>8.5</td>\n",
       "      <td>7.998087</td>\n",
       "    </tr>\n",
       "    <tr>\n",
       "      <th>282</th>\n",
       "      <td>Back to the Future</td>\n",
       "      <td>12608</td>\n",
       "      <td>8.3</td>\n",
       "      <td>7.970408</td>\n",
       "    </tr>\n",
       "    <tr>\n",
       "      <th>308</th>\n",
       "      <td>Se7en</td>\n",
       "      <td>12430</td>\n",
       "      <td>8.3</td>\n",
       "      <td>7.966487</td>\n",
       "    </tr>\n",
       "    <tr>\n",
       "      <th>94</th>\n",
       "      <td>Avengers: Endgame</td>\n",
       "      <td>12073</td>\n",
       "      <td>8.3</td>\n",
       "      <td>7.958336</td>\n",
       "    </tr>\n",
       "  </tbody>\n",
       "</table>\n",
       "</div>"
      ],
      "text/plain": [
       "                                                 title  vote_count  \\\n",
       "88                            The Shawshank Redemption       15423   \n",
       "153                                      The Godfather       11715   \n",
       "155                                       Pulp Fiction       17926   \n",
       "148                                    The Dark Knight       21489   \n",
       "210                                         Fight Club       18601   \n",
       "247                                       Forrest Gump       17282   \n",
       "135                                          Inception       25060   \n",
       "189                                   Schindler's List        9325   \n",
       "78       The Lord of the Rings: The Return of the King       14940   \n",
       "102                                       Interstellar       21493   \n",
       "361                                     The Green Mile        9696   \n",
       "57                              Avengers: Infinity War       17321   \n",
       "56   The Lord of the Rings: The Fellowship of the Ring       16375   \n",
       "147                                      Spirited Away        8947   \n",
       "167                            The Empire Strikes Back       11128   \n",
       "244              The Lord of the Rings: The Two Towers       14124   \n",
       "462                                  Life Is Beautiful        8419   \n",
       "282                                 Back to the Future       12608   \n",
       "308                                              Se7en       12430   \n",
       "94                                   Avengers: Endgame       12073   \n",
       "\n",
       "     vote_average     score  \n",
       "88            8.7  8.365650  \n",
       "153           8.7  8.278637  \n",
       "155           8.5  8.231317  \n",
       "148           8.4  8.181714  \n",
       "210           8.4  8.151885  \n",
       "247           8.4  8.135369  \n",
       "135           8.3  8.119144  \n",
       "189           8.6  8.115073  \n",
       "78            8.4  8.099899  \n",
       "102           8.3  8.092293  \n",
       "361           8.5  8.050498  \n",
       "57            8.3  8.048647  \n",
       "56            8.3  8.036072  \n",
       "147           8.5  8.021171  \n",
       "167           8.4  8.016159  \n",
       "244           8.3  8.000405  \n",
       "462           8.5  7.998087  \n",
       "282           8.3  7.970408  \n",
       "308           8.3  7.966487  \n",
       "94            8.3  7.958336  "
      ]
     },
     "execution_count": 12,
     "metadata": {},
     "output_type": "execute_result"
    }
   ],
   "source": [
    "#Print the top 20 movies\n",
    "df_copy[['title', 'vote_count', 'vote_average', 'score']].head(20)"
   ]
  },
  {
   "cell_type": "code",
   "execution_count": null,
   "metadata": {},
   "outputs": [],
   "source": []
  },
  {
   "cell_type": "code",
   "execution_count": null,
   "metadata": {},
   "outputs": [],
   "source": []
  },
  {
   "cell_type": "code",
   "execution_count": 13,
   "metadata": {},
   "outputs": [
    {
     "data": {
      "text/plain": [
       "0    Ex-hitman John Wick comes out of retirement to...\n",
       "1    The near future, a time when both hope and har...\n",
       "2    Marcus and Mike are forced to confront new thr...\n",
       "3    Simba idolizes his father, King Mufasa, and ta...\n",
       "4    Three years after the demise of Jurassic World...\n",
       "Name: overview, dtype: object"
      ]
     },
     "execution_count": 13,
     "metadata": {},
     "output_type": "execute_result"
    }
   ],
   "source": [
    "df.overview.head(5)"
   ]
  },
  {
   "cell_type": "code",
   "execution_count": 14,
   "metadata": {},
   "outputs": [
    {
     "data": {
      "text/plain": [
       "(10000, 28972)"
      ]
     },
     "execution_count": 14,
     "metadata": {},
     "output_type": "execute_result"
    }
   ],
   "source": [
    "from sklearn.feature_extraction.text import TfidfVectorizer\n",
    "tfidf = TfidfVectorizer(stop_words='english')\n",
    "df['overview'] = df['overview'].fillna('')\n",
    "tfidf_matrix = tfidf.fit_transform(df['overview'])\n",
    "tfidf_matrix.shape"
   ]
  },
  {
   "cell_type": "code",
   "execution_count": 15,
   "metadata": {},
   "outputs": [],
   "source": [
    "# Import linear_kernel\n",
    "from sklearn.metrics.pairwise import linear_kernel\n",
    "\n",
    "# Compute the cosine similarity matrix\n",
    "cosine_sim = linear_kernel(tfidf_matrix, tfidf_matrix)"
   ]
  },
  {
   "cell_type": "code",
   "execution_count": 16,
   "metadata": {},
   "outputs": [
    {
     "data": {
      "text/plain": [
       "(10000, 10000)"
      ]
     },
     "execution_count": 16,
     "metadata": {},
     "output_type": "execute_result"
    }
   ],
   "source": [
    "cosine_sim.shape"
   ]
  },
  {
   "cell_type": "code",
   "execution_count": 17,
   "metadata": {},
   "outputs": [],
   "source": [
    "#Construct a reverse map of indices and movie titles\n",
    "indices = pd.Series(df.index, index=df['title']).drop_duplicates()"
   ]
  },
  {
   "cell_type": "code",
   "execution_count": 18,
   "metadata": {},
   "outputs": [
    {
     "data": {
      "text/plain": [
       "title\n",
       "John Wick                                                               0\n",
       "Ad Astra                                                                1\n",
       "Bad Boys for Life                                                       2\n",
       "The Lion King                                                           3\n",
       "Jurassic World: Fallen Kingdom                                          4\n",
       "Bloodshot                                                               5\n",
       "Motherless Brooklyn                                                     6\n",
       "Transformers: The Last Knight                                           7\n",
       "Birds of Prey (and the Fantabulous Emancipation of One Harley Quinn)    8\n",
       "Barbie and the Diamond Castle                                           9\n",
       "dtype: int64"
      ]
     },
     "execution_count": 18,
     "metadata": {},
     "output_type": "execute_result"
    }
   ],
   "source": [
    "indices[:10]"
   ]
  },
  {
   "cell_type": "code",
   "execution_count": 21,
   "metadata": {},
   "outputs": [],
   "source": [
    "# Function that takes in movie title as input and outputs most similar movies\n",
    "def get_recommendations(title, cosine_sim=cosine_sim):\n",
    "    # Get the index of the movie that matches the title\n",
    "    idx = indices[title]\n",
    "\n",
    "    # Get the pairwsie similarity scores of all movies with that movie\n",
    "    sim_scores = list(enumerate(cosine_sim[idx]))\n",
    "\n",
    "    # Sort the movies based on the similarity scores\n",
    "    sim_scores = sorted(sim_scores, key=lambda x: x[1], reverse=True)\n",
    "\n",
    "    # Get the scores of the 10 most similar movies\n",
    "    sim_scores = sim_scores[1:11]\n",
    "\n",
    "    # Get the movie indices\n",
    "    movie_indices = [i[0] for i in sim_scores]\n",
    "\n",
    "    # Return the top 10 most similar movies\n",
    "    return df['title'].iloc[movie_indices]"
   ]
  },
  {
   "cell_type": "code",
   "execution_count": 22,
   "metadata": {},
   "outputs": [
    {
     "data": {
      "text/plain": [
       "57                 Avengers: Infinity War\n",
       "5701    Next Avengers: Heroes of Tomorrow\n",
       "131            Captain America: Civil War\n",
       "92                         Captain Marvel\n",
       "1212                    Super Mario Bros.\n",
       "8733      My Little Pony: Equestria Girls\n",
       "8538                              Haunter\n",
       "485                  Thor: The Dark World\n",
       "4270            The NeverEnding Story III\n",
       "8120            Bill & Ted Face the Music\n",
       "Name: title, dtype: object"
      ]
     },
     "execution_count": 22,
     "metadata": {},
     "output_type": "execute_result"
    }
   ],
   "source": [
    "get_recommendations('Avengers: Endgame')"
   ]
  },
  {
   "cell_type": "code",
   "execution_count": 24,
   "metadata": {},
   "outputs": [
    {
     "data": {
      "text/plain": [
       "8059                           Ca$h\n",
       "1732          Mr. Peabody & Sherman\n",
       "9191                The Borderlands\n",
       "739             Catch Me If You Can\n",
       "3433              It Might Get Loud\n",
       "8203                  Another Earth\n",
       "7228                  The Wrong Man\n",
       "139                            Coco\n",
       "9019                      The Alibi\n",
       "6047    Love in the Time of Cholera\n",
       "Name: title, dtype: object"
      ]
     },
     "execution_count": 24,
     "metadata": {},
     "output_type": "execute_result"
    }
   ],
   "source": [
    "get_recommendations('Forrest Gump')"
   ]
  },
  {
   "cell_type": "code",
   "execution_count": null,
   "metadata": {},
   "outputs": [],
   "source": []
  }
 ],
 "metadata": {
  "kernelspec": {
   "display_name": "Python 3",
   "language": "python",
   "name": "python3"
  },
  "language_info": {
   "codemirror_mode": {
    "name": "ipython",
    "version": 3
   },
   "file_extension": ".py",
   "mimetype": "text/x-python",
   "name": "python",
   "nbconvert_exporter": "python",
   "pygments_lexer": "ipython3",
   "version": "3.7.6"
  }
 },
 "nbformat": 4,
 "nbformat_minor": 4
}
